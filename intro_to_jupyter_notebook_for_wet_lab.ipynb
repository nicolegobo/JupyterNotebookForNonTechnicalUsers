{
 "cells": [
  {
   "cell_type": "markdown",
   "id": "c1a85311",
   "metadata": {},
   "source": [
    "## What is a Juypter Notebook?"
   ]
  },
  {
   "cell_type": "markdown",
   "id": "36a08ab3",
   "metadata": {},
   "source": [
    "While many more detailed introductions to Juypter Notebooks exist, this is just a breif introduction geared towards someone who would run analyses from an exsisting Juypter Notebook rather than start from scratch.  For example, you maybe a wet lab scientist who is colaborating with a dry lab scientist. \n",
    "\n",
    "If you plan to write your own Jupyter Notebooks or would like to take a deeper look here are some helpful resources:\n",
    "\n",
    "[Real Python's Jupyter Notebook: An Introduction](https://realpython.com/jupyter-notebook-introduction/)\n",
    "\n",
    "[Data Quest's How to Use Jupyter Notebook in 2020: A Beginner’s Tutorial](https://www.dataquest.io/blog/jupyter-notebook-tutorial/)\n",
    "\n",
    "### What can a juypter notebook do?\n",
    "A Jupyter Notebook is a robust tool yet user friendly tool to get started with if you are new to data science. It is a blend between an integrated development environment(IDE) and an electronic notebook.\n",
    "\n",
    "According to their [documentation](https://jupyter-notebook.readthedocs.io/en/stable/notebook.html):\n",
    "\n",
    ">*The notebook extends the console-based approach to interactive computing in a qualitatively new direction, providing a web-based application suitable for capturing the whole computation process: developing, documenting, and executing code, as well as communicating the results. The Jupyter notebook combines two components:*\n",
    ">\n",
    ">***A web application***: *a browser-based tool for interactive authoring of documents which combine explanatory text, mathematics, computations and their rich media output.*\n",
    ">\n",
    ">***Notebook documents***: *a representation of all content visible in the web application, including inputs and outputs of the computations, explanatory text, mathematics, images, and rich media representations of objects.*\n",
    "\n",
    "As a browser based tool they are accessible. The notebook structure makes analyses approcable, in a step by step fashion and the results are easily repoducible. \n",
    "\n",
    "### When, where and Why would you use Juypter Notebooks?\n",
    "Jupyter notebooks especially helpful in the following scenarios:\n",
    "- Showing code to other people\n",
    "- Running an analysis and show the output in the same place\n",
    "- Repeating the same analyses with different input the files\n",
    "- During live demos"
   ]
  },
  {
   "attachments": {
    "image-3.png": {
     "image/png": "[encoded data removed]"
    }
   },
   "cell_type": "markdown",
   "id": "40421fd5",
   "metadata": {},
   "source": [
    "### Getting to know a Juypter Notebook:\n",
    "A Juypter Notebook is split up into multiple cells. Cells can be different types. Most commonly, a code cell or markdown cell. This is a makrdown cell, it is used for display purposes. For the puposes of soley running exisiting code you do not need very many commands or short cuts. \n",
    "\n",
    "In a code cell you will run the code by either:\n",
    "- pressing on the ![image-3.png](attachment:image-3.png) button on the tool bar\n",
    "- pressing the keys `Ctrl+Shift+Enter`"
   ]
  },
  {
   "cell_type": "markdown",
   "id": "c37df1d5",
   "metadata": {},
   "source": [
    "### What does cell with import mean?\n",
    "In python you can use packages or modules. Multipe modules make a package. O\n",
    "For example, let's consider the `datetime` package and module within that package `date`.\n",
    "Run the first python cell below to import the date time package."
   ]
  },
  {
   "cell_type": "code",
   "execution_count": 6,
   "id": "ad81a347",
   "metadata": {},
   "outputs": [
    {
     "data": {
      "text/plain": [
       "datetime.date(2022, 6, 27)"
      ]
     },
     "execution_count": 6,
     "metadata": {},
     "output_type": "execute_result"
    }
   ],
   "source": [
    "from datetime import date\n",
    "date.today()"
   ]
  },
  {
   "cell_type": "markdown",
   "id": "04720348",
   "metadata": {},
   "source": [
    "If you ran the cell above, the output from the cell above this one should be the current date time.\n",
    "\n",
    "Try running the cell below to run a print command."
   ]
  },
  {
   "cell_type": "code",
   "execution_count": 7,
   "id": "7a17d7a3",
   "metadata": {},
   "outputs": [
    {
     "name": "stdout",
     "output_type": "stream",
     "text": [
      "the message below should print.\n"
     ]
    }
   ],
   "source": [
    "print('The message below should print.')"
   ]
  },
  {
   "cell_type": "markdown",
   "id": "e3c0a044",
   "metadata": {},
   "source": [
    "In order to work with data you must import it. You will do this by typing the file path.  "
   ]
  },
  {
   "cell_type": "markdown",
   "id": "45429512",
   "metadata": {},
   "source": [
    "If you are on mac:\n",
    "On your Mac, in a Finder window or on the desktop, select the item.\n",
    "\n",
    "Choose File > Get Info, or press Command-I.\n",
    "\n",
    "An information window opens for the item.\n",
    "\n",
    "Highlight and copy the path at the window. This path leads to the folder. You must add the name of the file at the end.\n",
    "\n",
    "For more detailed explaination pelase visit: [Mac suport](https://support.apple.com/lv-lv/guide/mac-help/mchlp1774/mac#:~:text=On%20your%20Mac%2C%20in%20a,window%20opens%20for%20the%20item.)"
   ]
  },
  {
   "cell_type": "markdown",
   "id": "87ec395c",
   "metadata": {},
   "source": [
    "If you are on a windows computer\n",
    "Click the Start button and then click Computer, click to open the location of the desired folder, and then right-click to the right of the path in the address bar. \n",
    "\n",
    "FFor more detailed explaination pelase visit: [Windows support](\n",
    "https://www.sony.com/electronics/support/articles/00015251)\n"
   ]
  },
  {
   "cell_type": "markdown",
   "id": "7337e59b",
   "metadata": {},
   "source": [
    "How to \n",
    "- import a file\n",
    "- do something to that file \n",
    "- make a quick plot\n",
    "- how to export a simple plot "
   ]
  },
  {
   "cell_type": "markdown",
   "id": "a16a4642",
   "metadata": {},
   "source": [
    "It is common to save the file paths as a variables. You will use the '=' symbol and include the file path inside of quotation marks 'path/to/input/file'. Paste your filepath to the input data, into the quotations below. \n",
    "\n",
    "For practice, please find the file containing practice data. It is named: practice_data.csv.\n",
    "\n",
    "We will be making a plot and then saving it as a .PNG. You must also create a path where you would like your output file be saved to then include the file type. As an example, I might save this plot as pactice plot with the data, 'practice_plot_MM_DD_YY.PNG'. "
   ]
  },
  {
   "cell_type": "code",
   "execution_count": 39,
   "id": "956688ea",
   "metadata": {},
   "outputs": [],
   "source": [
    "path_to_input_file = 'path/to/input/file'\n",
    "path_to_output_file = '/Users/nicolebowers/Desktop/practice_data.csv'\n",
    "\n",
    "path_for_output = 'path/to/input/file/test_plot_output.png'\n",
    "path_for_output = '/Users/nicolebowers/Desktop/test_plot_output.png'"
   ]
  },
  {
   "cell_type": "markdown",
   "id": "338cf138",
   "metadata": {},
   "source": [
    "Now this variable is set for this session. If you were repeating the analysis with new data you must chnage the file path and reset the kernel.\n",
    "Resetting the kernel is akin to starting with a blank slate. Any saved variables will be removed.\n",
    "\n",
    "Above on the menu bar click 'Kernel' > 'Restart'."
   ]
  },
  {
   "cell_type": "markdown",
   "id": "08918247",
   "metadata": {},
   "source": [
    "The few next cells will import any packages we will use, parse the data inside the file, then use a simple plotting package to plot the data. \n",
    "\n",
    "It is always good to look inside the file and see if everything is as expected. Below is a variation of the simple plotting example by the popular plotting package, Matplotlib."
   ]
  },
  {
   "cell_type": "code",
   "execution_count": 40,
   "id": "4ac6ac63",
   "metadata": {},
   "outputs": [],
   "source": [
    "import matplotlib.pyplot as plt\n",
    "import numpy as np\n",
    "import pandas as pd"
   ]
  },
  {
   "cell_type": "code",
   "execution_count": 41,
   "id": "16b2bb5b",
   "metadata": {},
   "outputs": [],
   "source": [
    "data = pd.read_csv(path_to_file, header='infer')"
   ]
  },
  {
   "cell_type": "markdown",
   "id": "16756f7d",
   "metadata": {},
   "source": [
    "If you got an error chances are that you have an error in your file path. Check and see if your file path is correct and includes the name of the file, 'practice_data.csv'. Note: if you change the file path, be sure to run the cell again!\n",
    "\n",
    "If you do not have an error, congratulations! Let's check out our new variable."
   ]
  },
  {
   "cell_type": "code",
   "execution_count": 42,
   "id": "b38f08f6",
   "metadata": {},
   "outputs": [
    {
     "name": "stdout",
     "output_type": "stream",
     "text": [
      "   Item 1  Item 2  Item 3\n",
      "0       1       3      30\n",
      "1       2       6      27\n",
      "2       3       9      24\n",
      "3       4      12      21\n",
      "4       5      15      18\n",
      "5       6      18      15\n",
      "6       7      21      12\n",
      "7       8      24       9\n",
      "8       9      27       6\n",
      "9      10      30       3\n"
     ]
    }
   ],
   "source": [
    "print(data)"
   ]
  },
  {
   "cell_type": "markdown",
   "id": "8665611f",
   "metadata": {},
   "source": [
    "The notebooks will usually be set up so that you only have to change the file paths for the input and outputs files. The code should be written in a way that you could try to follow along. Lines that start with '#' are comments from the developer to try to help the reader. They are not interpreted by the computer.  "
   ]
  },
  {
   "cell_type": "code",
   "execution_count": 48,
   "id": "027ba12d",
   "metadata": {},
   "outputs": [
    {
     "data": {
      "image/png": "[encoded data removed]",
      "text/plain": [
       "<Figure size 432x288 with 1 Axes>"
      ]
     },
     "metadata": {
      "needs_background": "light"
     },
     "output_type": "display_data"
    }
   ],
   "source": [
    "# Data for plotting\n",
    "#data.plot()\n",
    "plt.plot(data)\n",
    "plt.xlabel('sample')\n",
    "plt.ylabel('value')\n",
    "plt.savefig(path_for_output)"
   ]
  },
  {
   "cell_type": "markdown",
   "id": "23476260",
   "metadata": {},
   "source": [
    "Helpful hints:\n",
    "- When rerunning the analysis with new data, restart the kernle \n",
    "- Do not open multiple instances of the same notebook\n",
    "- Avoid saving variables as [keywords](https://realpython.com/python-keywords/)"
   ]
  },
  {
   "cell_type": "code",
   "execution_count": null,
   "id": "5c385156",
   "metadata": {},
   "outputs": [],
   "source": []
  }
 ],
 "metadata": {
  "kernelspec": {
   "display_name": "Python 3 (ipykernel)",
   "language": "python",
   "name": "python3"
  },
  "language_info": {
   "codemirror_mode": {
    "name": "ipython",
    "version": 3
   },
   "file_extension": ".py",
   "mimetype": "text/x-python",
   "name": "python",
   "nbconvert_exporter": "python",
   "pygments_lexer": "ipython3",
   "version": "3.8.5"
  }
 },
 "nbformat": 4,
 "nbformat_minor": 5
}
